{
  "cells": [
    {
      "cell_type": "code",
      "execution_count": null,
      "metadata": {
        "id": "b1LRc0MUCJO1"
      },
      "outputs": [],
      "source": [
        " # Practical Exercise 6: Mall Customer Clustering using k-means"
      ]
    },
    {
      "cell_type": "code",
      "execution_count": null,
      "metadata": {
        "colab": {
          "base_uri": "https://localhost:8080/",
          "height": 73
        },
        "id": "Rg-vKe7SJCfz",
        "outputId": "7edf618f-181f-454e-9fd8-5429ab9245f1"
      },
      "outputs": [
        {
          "output_type": "display_data",
          "data": {
            "text/plain": [
              "<IPython.core.display.HTML object>"
            ],
            "text/html": [
              "\n",
              "     <input type=\"file\" id=\"files-1847a4ea-3344-4495-8869-d710b505e896\" name=\"files[]\" multiple disabled\n",
              "        style=\"border:none\" />\n",
              "     <output id=\"result-1847a4ea-3344-4495-8869-d710b505e896\">\n",
              "      Upload widget is only available when the cell has been executed in the\n",
              "      current browser session. Please rerun this cell to enable.\n",
              "      </output>\n",
              "      <script>// Copyright 2017 Google LLC\n",
              "//\n",
              "// Licensed under the Apache License, Version 2.0 (the \"License\");\n",
              "// you may not use this file except in compliance with the License.\n",
              "// You may obtain a copy of the License at\n",
              "//\n",
              "//      http://www.apache.org/licenses/LICENSE-2.0\n",
              "//\n",
              "// Unless required by applicable law or agreed to in writing, software\n",
              "// distributed under the License is distributed on an \"AS IS\" BASIS,\n",
              "// WITHOUT WARRANTIES OR CONDITIONS OF ANY KIND, either express or implied.\n",
              "// See the License for the specific language governing permissions and\n",
              "// limitations under the License.\n",
              "\n",
              "/**\n",
              " * @fileoverview Helpers for google.colab Python module.\n",
              " */\n",
              "(function(scope) {\n",
              "function span(text, styleAttributes = {}) {\n",
              "  const element = document.createElement('span');\n",
              "  element.textContent = text;\n",
              "  for (const key of Object.keys(styleAttributes)) {\n",
              "    element.style[key] = styleAttributes[key];\n",
              "  }\n",
              "  return element;\n",
              "}\n",
              "\n",
              "// Max number of bytes which will be uploaded at a time.\n",
              "const MAX_PAYLOAD_SIZE = 100 * 1024;\n",
              "\n",
              "function _uploadFiles(inputId, outputId) {\n",
              "  const steps = uploadFilesStep(inputId, outputId);\n",
              "  const outputElement = document.getElementById(outputId);\n",
              "  // Cache steps on the outputElement to make it available for the next call\n",
              "  // to uploadFilesContinue from Python.\n",
              "  outputElement.steps = steps;\n",
              "\n",
              "  return _uploadFilesContinue(outputId);\n",
              "}\n",
              "\n",
              "// This is roughly an async generator (not supported in the browser yet),\n",
              "// where there are multiple asynchronous steps and the Python side is going\n",
              "// to poll for completion of each step.\n",
              "// This uses a Promise to block the python side on completion of each step,\n",
              "// then passes the result of the previous step as the input to the next step.\n",
              "function _uploadFilesContinue(outputId) {\n",
              "  const outputElement = document.getElementById(outputId);\n",
              "  const steps = outputElement.steps;\n",
              "\n",
              "  const next = steps.next(outputElement.lastPromiseValue);\n",
              "  return Promise.resolve(next.value.promise).then((value) => {\n",
              "    // Cache the last promise value to make it available to the next\n",
              "    // step of the generator.\n",
              "    outputElement.lastPromiseValue = value;\n",
              "    return next.value.response;\n",
              "  });\n",
              "}\n",
              "\n",
              "/**\n",
              " * Generator function which is called between each async step of the upload\n",
              " * process.\n",
              " * @param {string} inputId Element ID of the input file picker element.\n",
              " * @param {string} outputId Element ID of the output display.\n",
              " * @return {!Iterable<!Object>} Iterable of next steps.\n",
              " */\n",
              "function* uploadFilesStep(inputId, outputId) {\n",
              "  const inputElement = document.getElementById(inputId);\n",
              "  inputElement.disabled = false;\n",
              "\n",
              "  const outputElement = document.getElementById(outputId);\n",
              "  outputElement.innerHTML = '';\n",
              "\n",
              "  const pickedPromise = new Promise((resolve) => {\n",
              "    inputElement.addEventListener('change', (e) => {\n",
              "      resolve(e.target.files);\n",
              "    });\n",
              "  });\n",
              "\n",
              "  const cancel = document.createElement('button');\n",
              "  inputElement.parentElement.appendChild(cancel);\n",
              "  cancel.textContent = 'Cancel upload';\n",
              "  const cancelPromise = new Promise((resolve) => {\n",
              "    cancel.onclick = () => {\n",
              "      resolve(null);\n",
              "    };\n",
              "  });\n",
              "\n",
              "  // Wait for the user to pick the files.\n",
              "  const files = yield {\n",
              "    promise: Promise.race([pickedPromise, cancelPromise]),\n",
              "    response: {\n",
              "      action: 'starting',\n",
              "    }\n",
              "  };\n",
              "\n",
              "  cancel.remove();\n",
              "\n",
              "  // Disable the input element since further picks are not allowed.\n",
              "  inputElement.disabled = true;\n",
              "\n",
              "  if (!files) {\n",
              "    return {\n",
              "      response: {\n",
              "        action: 'complete',\n",
              "      }\n",
              "    };\n",
              "  }\n",
              "\n",
              "  for (const file of files) {\n",
              "    const li = document.createElement('li');\n",
              "    li.append(span(file.name, {fontWeight: 'bold'}));\n",
              "    li.append(span(\n",
              "        `(${file.type || 'n/a'}) - ${file.size} bytes, ` +\n",
              "        `last modified: ${\n",
              "            file.lastModifiedDate ? file.lastModifiedDate.toLocaleDateString() :\n",
              "                                    'n/a'} - `));\n",
              "    const percent = span('0% done');\n",
              "    li.appendChild(percent);\n",
              "\n",
              "    outputElement.appendChild(li);\n",
              "\n",
              "    const fileDataPromise = new Promise((resolve) => {\n",
              "      const reader = new FileReader();\n",
              "      reader.onload = (e) => {\n",
              "        resolve(e.target.result);\n",
              "      };\n",
              "      reader.readAsArrayBuffer(file);\n",
              "    });\n",
              "    // Wait for the data to be ready.\n",
              "    let fileData = yield {\n",
              "      promise: fileDataPromise,\n",
              "      response: {\n",
              "        action: 'continue',\n",
              "      }\n",
              "    };\n",
              "\n",
              "    // Use a chunked sending to avoid message size limits. See b/62115660.\n",
              "    let position = 0;\n",
              "    do {\n",
              "      const length = Math.min(fileData.byteLength - position, MAX_PAYLOAD_SIZE);\n",
              "      const chunk = new Uint8Array(fileData, position, length);\n",
              "      position += length;\n",
              "\n",
              "      const base64 = btoa(String.fromCharCode.apply(null, chunk));\n",
              "      yield {\n",
              "        response: {\n",
              "          action: 'append',\n",
              "          file: file.name,\n",
              "          data: base64,\n",
              "        },\n",
              "      };\n",
              "\n",
              "      let percentDone = fileData.byteLength === 0 ?\n",
              "          100 :\n",
              "          Math.round((position / fileData.byteLength) * 100);\n",
              "      percent.textContent = `${percentDone}% done`;\n",
              "\n",
              "    } while (position < fileData.byteLength);\n",
              "  }\n",
              "\n",
              "  // All done.\n",
              "  yield {\n",
              "    response: {\n",
              "      action: 'complete',\n",
              "    }\n",
              "  };\n",
              "}\n",
              "\n",
              "scope.google = scope.google || {};\n",
              "scope.google.colab = scope.google.colab || {};\n",
              "scope.google.colab._files = {\n",
              "  _uploadFiles,\n",
              "  _uploadFilesContinue,\n",
              "};\n",
              "})(self);\n",
              "</script> "
            ]
          },
          "metadata": {}
        },
        {
          "output_type": "stream",
          "name": "stdout",
          "text": [
            "Saving Mall_Customers.csv to Mall_Customers.csv\n"
          ]
        }
      ],
      "source": [
        "from google.colab import files\n",
        "uploaded = files.upload()"
      ]
    },
    {
      "cell_type": "code",
      "execution_count": null,
      "metadata": {
        "colab": {
          "base_uri": "https://localhost:8080/"
        },
        "id": "dGZkTg-sK3zA",
        "outputId": "4f7fdd30-9235-4949-f297-c38ed1cc9958"
      },
      "outputs": [
        {
          "output_type": "stream",
          "name": "stdout",
          "text": [
            "   CustomerID  Gender  Age  Annual Income (k$)  Spending Score (1-100)\n",
            "0           1    Male   19                  15                      39\n",
            "1           2    Male   21                  15                      81\n",
            "2           3  Female   20                  16                       6\n",
            "3           4  Female   23                  16                      77\n",
            "4           5  Female   31                  17                      40\n",
            "<class 'pandas.core.frame.DataFrame'>\n",
            "RangeIndex: 200 entries, 0 to 199\n",
            "Data columns (total 5 columns):\n",
            " #   Column                  Non-Null Count  Dtype \n",
            "---  ------                  --------------  ----- \n",
            " 0   CustomerID              200 non-null    int64 \n",
            " 1   Gender                  200 non-null    object\n",
            " 2   Age                     200 non-null    int64 \n",
            " 3   Annual Income (k$)      200 non-null    int64 \n",
            " 4   Spending Score (1-100)  200 non-null    int64 \n",
            "dtypes: int64(4), object(1)\n",
            "memory usage: 7.9+ KB\n",
            "None\n"
          ]
        }
      ],
      "source": [
        "import pandas as pd\n",
        "import io\n",
        "\n",
        "df = pd.read_csv(io.BytesIO(uploaded['Mall_Customers.csv']))\n",
        "print(df.head())\n",
        "print(df.info())"
      ]
    },
    {
      "cell_type": "code",
      "execution_count": null,
      "metadata": {
        "id": "JBJAtVhmmj9B",
        "colab": {
          "base_uri": "https://localhost:8080/",
          "height": 506
        },
        "outputId": "cf2daa8b-fb8e-4c16-c80f-bd4ffd2b64d7"
      },
      "outputs": [
        {
          "output_type": "stream",
          "name": "stdout",
          "text": [
            "Missing values:\n",
            "CustomerID                0\n",
            "Gender                    0\n",
            "Age                       0\n",
            "Annual Income (k$)        0\n",
            "Spending Score (1-100)    0\n",
            "dtype: int64\n",
            "\n",
            "Duplicate rows: 0\n",
            "\n",
            "Data types:\n",
            "CustomerID                 int64\n",
            "Gender                    object\n",
            "Age                        int64\n",
            "Annual Income (k$)         int64\n",
            "Spending Score (1-100)     int64\n",
            "dtype: object\n"
          ]
        },
        {
          "output_type": "error",
          "ename": "NameError",
          "evalue": "name 'plt' is not defined",
          "traceback": [
            "\u001b[0;31m---------------------------------------------------------------------------\u001b[0m",
            "\u001b[0;31mNameError\u001b[0m                                 Traceback (most recent call last)",
            "\u001b[0;32m/tmp/ipython-input-265711308.py\u001b[0m in \u001b[0;36m<cell line: 0>\u001b[0;34m()\u001b[0m\n\u001b[1;32m     12\u001b[0m \u001b[0;34m\u001b[0m\u001b[0m\n\u001b[1;32m     13\u001b[0m \u001b[0;31m# 2.1 Basic visualizations\u001b[0m\u001b[0;34m\u001b[0m\u001b[0;34m\u001b[0m\u001b[0m\n\u001b[0;32m---> 14\u001b[0;31m \u001b[0mfig\u001b[0m\u001b[0;34m,\u001b[0m \u001b[0maxes\u001b[0m \u001b[0;34m=\u001b[0m \u001b[0mplt\u001b[0m\u001b[0;34m.\u001b[0m\u001b[0msubplots\u001b[0m\u001b[0;34m(\u001b[0m\u001b[0;36m2\u001b[0m\u001b[0;34m,\u001b[0m \u001b[0;36m2\u001b[0m\u001b[0;34m,\u001b[0m \u001b[0mfigsize\u001b[0m\u001b[0;34m=\u001b[0m\u001b[0;34m(\u001b[0m\u001b[0;36m15\u001b[0m\u001b[0;34m,\u001b[0m \u001b[0;36m12\u001b[0m\u001b[0;34m)\u001b[0m\u001b[0;34m)\u001b[0m\u001b[0;34m\u001b[0m\u001b[0;34m\u001b[0m\u001b[0m\n\u001b[0m\u001b[1;32m     15\u001b[0m \u001b[0;34m\u001b[0m\u001b[0m\n\u001b[1;32m     16\u001b[0m \u001b[0;31m# Gender distribution\u001b[0m\u001b[0;34m\u001b[0m\u001b[0;34m\u001b[0m\u001b[0m\n",
            "\u001b[0;31mNameError\u001b[0m: name 'plt' is not defined"
          ]
        }
      ],
      "source": [
        "print(\"Missing values:\")\n",
        "print(df.isnull().sum())\n",
        "\n",
        "print(f\"\\nDuplicate rows: {df.duplicated().sum()}\")\n",
        "\n",
        "print(\"\\nData types:\")\n",
        "print(df.dtypes)\n",
        "\n",
        "df_clean = df.copy()\n",
        "\n",
        "# Step 2: Exploratory Data Analysis (EDA)\n",
        "\n",
        "# 2.1 Basic visualizations\n",
        "fig, axes = plt.subplots(2, 2, figsize=(15, 12))\n",
        "\n",
        "# Gender distribution\n",
        "gender_counts = df_clean['Gender'].value_counts()\n",
        "axes[0,0].pie(gender_counts.values, labels=gender_counts.index, autopct='%1.1f%%')\n",
        "axes[0,0].set_title('Gender Distribution')\n",
        "\n",
        "# Age distribution\n",
        "axes[0,1].hist(df_clean['Age'], bins=20, edgecolor='black', alpha=0.7)\n",
        "axes[0,1].set_title('Age Distribution')\n",
        "axes[0,1].set_xlabel('Age')\n",
        "axes[0,1].set_ylabel('Frequency')\n",
        "\n",
        "# Annual Income distribution\n",
        "axes[1,0].hist(df_clean['AnnualIncome'], bins=20, edgecolor='black', alpha=0.7)\n",
        "axes[1,0].set_title('Annual Income Distribution (k$)')\n",
        "axes[1,0].set_xlabel('Annual Income (k$)')\n",
        "axes[1,0].set_ylabel('Frequency')\n",
        "\n",
        "# Spending Score distribution\n",
        "axes[1,1].hist(df_clean['SpendingScore'], bins=20, edgecolor='black', alpha=0.7)\n",
        "axes[1,1].set_title('Spending Score Distribution')\n",
        "axes[1,1].set_xlabel('Spending Score (1-100)')\n",
        "axes[1,1].set_ylabel('Frequency')\n",
        "\n",
        "plt.tight_layout()\n",
        "plt.show()"
      ]
    },
    {
      "cell_type": "code",
      "execution_count": null,
      "metadata": {
        "id": "dbgt2eWFca4c"
      },
      "outputs": [],
      "source": [
        "#Question 3(a)\n",
        "import matplotlib.pyplot as plt\n",
        "from sklearn.cluster import KMeans\n",
        "\n",
        "print(\"K MEANS WITH 1 SUITABLE FEATURE\")\n",
        "X1=df[['Annual Income (k$)']]\n",
        "wcss=[]\n",
        "k_range=range(1,11)\n",
        "for k in k_range:\n",
        "  kmeans=KMeans(n_clusters=k, random_state=42)\n",
        "  kmeans.fit(X1)\n",
        "  wcss.append(kmeans.inertia_)\n",
        "plt.figure(figsize=(10,6))\n",
        "plt.plot(k_range,wcss,'bo-')\n",
        "plt.xlabel('Number of clusters')\n",
        "plt.ylabel('WCSS')\n",
        "plt.title('The Elbow Method - 1 Suitable Feature(Annual Income)')\n",
        "plt.show()\n",
        "kmeans1 = KMeans(n_clusters=5, random_state=42)\n",
        "df['Cluster_1feature']= kmeans.fit_predict(X1)\n",
        "print(\"Kmeans clustering with 1 Suitable feature done\")\n",
        "\n",
        "//Q4. distribution of clusters isconstant focuses on one feature only annual income"
      ]
    },
    {
      "cell_type": "code",
      "execution_count": null,
      "metadata": {
        "id": "AACkBM8peexx"
      },
      "outputs": [],
      "source": [
        "import numpy as np\n",
        "import matplotlib.pyplot as plt\n",
        "from sklearn.cluster import KMeans\n",
        "from sklearn.metrics import silhouette_score\n",
        "\n",
        "print(\"Calculating silhouette scores\")\n",
        "silhouette_scores = []\n",
        "for k in range(2,11):\n",
        "    kmeans = KMeans(n_clusters=k, random_state=42, n_init=10)\n",
        "    cluster_labels = kmeans.fit_predict(X1)\n",
        "    silhouette_avg = silhouette_score(X1, cluster_labels)\n",
        "    silhouette_scores.append(silhouette_avg)\n",
        "\n",
        "plt.figure(figsize=(10,6))\n",
        "plt.plot(range(2,11),silhouette_scores,'ro-')\n",
        "plt.xlabel('Number of clusters')\n",
        "plt.ylabel('Silhouette Score')\n",
        "plt.title('Silhouette Score optimal for K for 1 feature')\n",
        "plt.grid(True,alpha=0.3)\n",
        "plt.tight_layout()\n",
        "plt.show()\n",
        "\n",
        "optimal_k_elbow =3\n",
        "optimal_k_silhouette= range(2,11)[np.argmax(silhouette_scores)]\n",
        "print(f\"\\n Optimal clusters analysis:\")\n",
        "print(f\"Elbow method suggests: k={optimal_k_elbow}\")\n",
        "print(f\"Silhouette method suggests: k={optimal_k_silhouette}\")\n",
        "\n",
        "final_k=optimal_k_elbow\n",
        "print(f\"Selected k for clustering: {final_k}\")\n",
        "print(f\"\\n Applying K-means with k={final_k}\")\n",
        "kmeans_1feature=KMeans(n_clusters=final_k,random_state=42, n_init=10)\n",
        "df['Cluster_1feature']=kmeans_1feature.fit_predict(X1)\n",
        "print(\"\\n Cluster analysis (1 feature)\")\n",
        "cluster_summary_1f=df.groupby('Cluster_1feature').agg({'Annual Income (k$)':'mean','Spending Score (1-100)':'mean','Gender':'count'})\n",
        "print(cluster_summary_1f)\n",
        "\n",
        "\n",
        "//Q4. the distribution of clusters notconstant focuses on 2 features annual income, spending score"
      ]
    },
    {
      "cell_type": "code",
      "execution_count": null,
      "metadata": {
        "id": "xQGoTAjj23oN"
      },
      "outputs": [],
      "source": [
        "print(\"--- Starting K-Means with 2 Suitable Features ---\")\n",
        "#Select the two features (Annual Income and Spending Score)\n",
        "X2 = df[['Annual Income (k$)', 'Spending Score (1-100)']]\n",
        "print(\"Features selected for 2-feature clustering: Annual Income (k$) and Spending Score (1-100)\")\n",
        "print(X2.head())"
      ]
    },
    {
      "cell_type": "code",
      "execution_count": null,
      "metadata": {
        "id": "-F5NDljQ6-Zz"
      },
      "outputs": [],
      "source": [
        "import matplotlib.pyplot as plt\n",
        "from sklearn.cluster import KMeans\n",
        "print(\"\\n--- Elbow Method for 2 Features ---\")\n",
        "wcss = []\n",
        "k_range = range(1, 11) # We'll check k from 1 to 10\n",
        "for k in k_range:\n",
        "    kmeans = KMeans(n_clusters=k, random_state=42, n_init=10)\n",
        "    # n_init=10 is good practice\n",
        "    kmeans.fit(X2)\n",
        "    wcss.append(kmeans.inertia_)\n",
        "plt.figure(figsize=(10, 6))\n",
        "plt.plot(k_range, wcss, 'bo-')\n",
        "plt.xlabel('Number of clusters (k)')\n",
        "plt.ylabel('Within-Cluster Sum of Squares (WCSS)')\n",
        "plt.title('The Elbow Method - 2 Suitable Features')\n",
        "plt.grid(True, alpha=0.3)\n",
        "plt.show()"
      ]
    },
    {
      "cell_type": "code",
      "execution_count": null,
      "metadata": {
        "id": "l5vdZSxa-_lh"
      },
      "outputs": [],
      "source": [
        "import numpy as np\n",
        "from sklearn.metrics import silhouette_score\n",
        "print(\"\\n--- Silhouette Score for 2 Features ---\")\n",
        "silhouette_scores_2f = []\n",
        "# Silhouette score is not defined for k=1, so we start from k=2\n",
        "for k in range(2, 11): # We'll check k from 2 to 10\n",
        "    kmeans = KMeans(n_clusters=k, random_state=42, n_init=10)\n",
        "    cluster_labels = kmeans.fit_predict(X2)\n",
        "    silhouette_avg = silhouette_score(X2, cluster_labels)\n",
        "    silhouette_scores_2f.append(silhouette_avg)\n",
        "plt.figure(figsize=(10, 6))\n",
        "plt.plot(range(2, 11), silhouette_scores_2f, 'ro-')\n",
        "plt.xlabel('Number of clusters (k)')\n",
        "plt.ylabel('Silhouette Score')\n",
        "plt.title('Silhouette Score for Optimal K (2 features)')\n",
        "plt.grid(True, alpha=0.3)\n",
        "plt.tight_layout()\n",
        "plt.show()\n",
        "# Find the k with the highest silhouette score\n",
        "optimal_k_silhouette_2f = range(2, 11)[np.argmax(silhouette_scores_2f)]\n",
        "print(f\"The Silhouette Method suggests: k={optimal_k_silhouette_2f} (highest score)\")"
      ]
    },
    {
      "cell_type": "code",
      "execution_count": null,
      "metadata": {
        "id": "mEvQy62HCUS2"
      },
      "outputs": [],
      "source": [
        "#Based on both the Elbow and Silhouette plots, k=5 is a good choice.\n",
        "final_k_2f = 5\n",
        "print(f\"\\n--- Applying K-Means with selected k={final_k_2f} (2 features) ---\")\n",
        "kmeans_2features = KMeans(n_clusters=final_k_2f, random_state=42, n_init=10)\n",
        "df['Cluster_2features'] = kmeans_2features.fit_predict(X2)\n",
        "print(f\"K-Means clustering with k={final_k_2f} for 2 features is complete.\")\n",
        "print(\"New column 'Cluster_2features' added to your DataFrame.\")\n",
        "print(df.head())"
      ]
    },
    {
      "cell_type": "code",
      "execution_count": null,
      "metadata": {
        "id": "aOqgPXv_DEGe"
      },
      "outputs": [],
      "source": [
        "print(\"\\n--- Cluster Analysis (2 features) ---\")\n",
        "cluster_summary_2f = df.groupby('Cluster_2features').agg({\n",
        "'Annual Income (k$)': 'mean',\n",
        "'Spending Score (1-100)': 'mean',\n",
        "'Age': 'mean', # Also including Age for a more complete understanding of each segment\n",
        "'Gender': 'count' # This counts the number of customers in each cluster\n",
        "}).rename(columns={'Gender': 'Number of Customers'}) # Rename 'Gender' to 'Number of Customers' for clarity\n",
        "print(cluster_summary_2f)"
      ]
    },
    {
      "cell_type": "markdown",
      "metadata": {
        "id": "GcP13RUxhAXP"
      },
      "source": [
        "Based on the 5-cluster model, the mall can tailor engagement strategies for different customer groups.\n",
        "\n",
        "High Income / High Spenders: Reward them with exclusive offers, personalized shopping experiences, and loyalty programs to retain them.\n",
        "\n",
        "High Income / Low Spenders: Encourage them to spend more through premium promotions, bundled deals, and VIP events.\n",
        "\n",
        "Low Income / High Spenders: Provide discounts and loyalty points to sustain their purchasing behavior.\n",
        "\n",
        "Low Income / Low Spenders: Run awareness campaigns and budget-friendly product offers to increase footfall.\n",
        "\n",
        "Average Customers: Use seasonal promotions and targeted marketing to increase spending.\n",
        "\n",
        "These customer engagement strategies allow the mall to allocate resources effectively and increase overall revenue."
      ]
    }
  ],
  "metadata": {
    "colab": {
      "provenance": []
    },
    "kernelspec": {
      "display_name": "Python 3",
      "name": "python3"
    },
    "language_info": {
      "name": "python"
    }
  },
  "nbformat": 4,
  "nbformat_minor": 0
}